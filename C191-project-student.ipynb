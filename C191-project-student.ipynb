{
 "cells": [
  {
   "cell_type": "raw",
   "metadata": {},
   "source": []
  },
  {
   "cell_type": "code",
   "execution_count": 2,
   "metadata": {},
   "outputs": [
    {
     "name": "stdout",
     "output_type": "stream",
     "text": [
      "     active_cases                country\n",
      "212             0  Saint Pierre Miquelon\n",
      "180             0                Eritrea\n",
      "192             0          New Caledonia\n",
      "193             0            Saint Lucia\n",
      "177             0                  Macao\n"
     ]
    },
    {
     "data": {
      "text/plain": [
       "<BarContainer object of 5 artists>"
      ]
     },
     "execution_count": 2,
     "metadata": {},
     "output_type": "execute_result"
    },
    {
     "data": {
      "image/png": "[encoded data removed]",
      "text/plain": [
       "<Figure size 432x288 with 1 Axes>"
      ]
     },
     "metadata": {
      "needs_background": "light"
     },
     "output_type": "display_data"
    }
   ],
   "source": [
    "\n",
    "import pandas as pd\n",
    "from matplotlib import pyplot as plt\n",
    "dataframe = pd.read_csv('covid19.csv')\n",
    "df = pd.DataFrame(dataframe,columns = ['active_cases','country'])\n",
    "df.replace(\" \",float(\"NaN\"),inplace = True)\n",
    "df = df.dropna()\n",
    "sorted_df = df.sort_values(by = ['active_cases'])\n",
    "use_least_power = sorted_df.head(5)\n",
    "print(use_least_power)\n",
    "name = use_least_power['country']\n",
    "weight = use_least_power['active_cases']\n",
    "plt.xlabel(\"Country\")\n",
    "plt.xticks(rotation='vertical')\n",
    "plt.ylabel(\"Active Cases\")\n",
    "label = name\n",
    "value = weight \n",
    "plt.bar(label, value,width=0.4, color=('red','yellow','green','pink','blue')) "
   ]
  },
  {
   "cell_type": "code",
   "execution_count": 3,
   "metadata": {},
   "outputs": [
    {
     "name": "stdout",
     "output_type": "stream",
     "text": [
      "   total_deaths country\n",
      "3         27940   Spain\n",
      "6         28215  France\n",
      "5         32486   Italy\n",
      "4         36042      UK\n",
      "0         96359     USA\n"
     ]
    },
    {
     "data": {
      "text/plain": [
       "<BarContainer object of 5 artists>"
      ]
     },
     "execution_count": 3,
     "metadata": {},
     "output_type": "execute_result"
    },
    {
     "data": {
      "image/png": "[encoded data removed]",
      "text/plain": [
       "<Figure size 432x288 with 1 Axes>"
      ]
     },
     "metadata": {
      "needs_background": "light"
     },
     "output_type": "display_data"
    }
   ],
   "source": [
    "import pandas as pd\n",
    "from matplotlib import pyplot as plt\n",
    "dataframe = pd.read_csv('covid19.csv')\n",
    "df = pd.DataFrame(dataframe,columns = ['total_deaths','country'])\n",
    "df.replace(\" \",float(\"NaN\"),inplace = True)\n",
    "df = df.dropna()\n",
    "sorted_df = df.sort_values(by = ['total_deaths'])\n",
    "use_least_power = sorted_df.tail(5)\n",
    "print(use_least_power)\n",
    "name = use_least_power['country']\n",
    "weight = use_least_power['total_deaths']\n",
    "plt.xlabel(\"Country\")\n",
    "plt.xticks(rotation='vertical')\n",
    "plt.ylabel(\"Total Deaths\")\n",
    "label = name\n",
    "value = weight \n",
    "plt.bar(label, value,width=0.4, color=('red','yellow','green','pink','blue')) "
   ]
  },
  {
   "cell_type": "code",
   "execution_count": 4,
   "metadata": {},
   "outputs": [
    {
     "name": "stdout",
     "output_type": "stream",
     "text": [
      "   active_cases country\n",
      "6         89753  France\n",
      "2        164879  Brazil\n",
      "4        212948      UK\n",
      "1        223374  Russia\n",
      "0       1142593     USA\n"
     ]
    },
    {
     "data": {
      "text/plain": [
       "<BarContainer object of 5 artists>"
      ]
     },
     "execution_count": 4,
     "metadata": {},
     "output_type": "execute_result"
    },
    {
     "data": {
      "image/png": "[encoded data removed]",
      "text/plain": [
       "<Figure size 432x288 with 1 Axes>"
      ]
     },
     "metadata": {
      "needs_background": "light"
     },
     "output_type": "display_data"
    }
   ],
   "source": [
    "import pandas as pd\n",
    "from matplotlib import pyplot as plt\n",
    "dataframe = pd.read_csv('covid19.csv')\n",
    "df = pd.DataFrame(dataframe,columns = ['active_cases','country'])\n",
    "df.replace(\" \",float(\"NaN\"),inplace = True)\n",
    "df = df.dropna()\n",
    "sorted_df = df.sort_values(by = ['active_cases'])\n",
    "use_least_power = sorted_df.tail(5)\n",
    "print(use_least_power)\n",
    "name = use_least_power['country']\n",
    "weight = use_least_power['active_cases']\n",
    "plt.xlabel(\"Country\")\n",
    "plt.xticks(rotation='vertical')\n",
    "plt.ylabel(\"Active Cases\")\n",
    "label = name\n",
    "value = weight \n",
    "plt.bar(label, value,width=0.4, color=('red','yellow','green','pink','blue')) "
   ]
  },
  {
   "cell_type": "code",
   "execution_count": null,
   "metadata": {},
   "outputs": [],
   "source": []
  },
  {
   "cell_type": "code",
   "execution_count": null,
   "metadata": {},
   "outputs": [],
   "source": [
    "#Task 3\n",
    "#Sort the data as per total number of deaths\n",
    "\n"
   ]
  },
  {
   "cell_type": "code",
   "execution_count": null,
   "metadata": {},
   "outputs": [],
   "source": [
    "#Task 4\n",
    "#Get top 5 countries who has the maximum number of deaths and plot a bar graph\n",
    "\n",
    "\n"
   ]
  },
  {
   "cell_type": "code",
   "execution_count": null,
   "metadata": {},
   "outputs": [],
   "source": [
    "#Task 5\n",
    "#Sort the data as per active cases\n",
    "\n"
   ]
  },
  {
   "cell_type": "code",
   "execution_count": null,
   "metadata": {},
   "outputs": [],
   "source": [
    "#Task 6\n",
    "#Get top 5 countries who has the maximum number of active cases and plot a bar graph\n"
   ]
  },
  {
   "cell_type": "code",
   "execution_count": null,
   "metadata": {},
   "outputs": [],
   "source": []
  },
  {
   "cell_type": "code",
   "execution_count": null,
   "metadata": {},
   "outputs": [],
   "source": []
  }
 ],
 "metadata": {
  "kernelspec": {
   "display_name": "Python 3",
   "language": "python",
   "name": "python3"
  },
  "language_info": {
   "codemirror_mode": {
    "name": "ipython",
    "version": 3
   },
   "file_extension": ".py",
   "mimetype": "text/x-python",
   "name": "python",
   "nbconvert_exporter": "python",
   "pygments_lexer": "ipython3",
   "version": "3.8.5"
  }
 },
 "nbformat": 4,
 "nbformat_minor": 4
}
